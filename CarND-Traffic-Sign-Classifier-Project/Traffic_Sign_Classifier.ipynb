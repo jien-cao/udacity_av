{
 "cells": [
  {
   "cell_type": "markdown",
   "metadata": {},
   "source": [
    "# Self-Driving Car Engineer Nanodegree\n",
    "\n",
    "## Deep Learning\n",
    "\n",
    "## Project: Build a Traffic Sign Recognition Classifier\n",
    "\n",
    "In this notebook, a template is provided for you to implement your functionality in stages, which is required to successfully complete this project. If additional code is required that cannot be included in the notebook, be sure that the Python code is successfully imported and included in your submission if necessary. \n",
    "\n",
    "> **Note**: Once you have completed all of the code implementations, you need to finalize your work by exporting the iPython Notebook as an HTML document. Before exporting the notebook to html, all of the code cells need to have been run so that reviewers can see the final implementation and output. You can then export the notebook by using the menu above and navigating to  \\n\",\n",
    "    \"**File -> Download as -> HTML (.html)**. Include the finished document along with this notebook as your submission. \n",
    "\n",
    "In addition to implementing code, there is a writeup to complete. The writeup should be completed in a separate file, which can be either a markdown file or a pdf document. There is a [write up template](https://github.com/udacity/CarND-Traffic-Sign-Classifier-Project/blob/master/writeup_template.md) that can be used to guide the writing process. Completing the code template and writeup template will cover all of the [rubric points](https://review.udacity.com/#!/rubrics/481/view) for this project.\n",
    "\n",
    "The [rubric](https://review.udacity.com/#!/rubrics/481/view) contains \"Stand Out Suggestions\" for enhancing the project beyond the minimum requirements. The stand out suggestions are optional. If you decide to pursue the \"stand out suggestions\", you can include the code in this Ipython notebook and also discuss the results in the writeup file.\n",
    "\n",
    "\n",
    ">**Note:** Code and Markdown cells can be executed using the **Shift + Enter** keyboard shortcut. In addition, Markdown cells can be edited by typically double-clicking the cell to enter edit mode."
   ]
  },
  {
   "cell_type": "markdown",
   "metadata": {},
   "source": [
    "---\n",
    "## Step 0: Load The Data"
   ]
  },
  {
   "cell_type": "code",
   "execution_count": 1,
   "metadata": {},
   "outputs": [
    {
     "name": "stdout",
     "output_type": "stream",
     "text": [
      "Training (34799, 32, 32, 3), (34799,)\n",
      "Validation (4410, 32, 32, 3), (4410,)\n",
      "Testing (12630, 32, 32, 3), (12630,)\n",
      "example of one y value: 41\n"
     ]
    }
   ],
   "source": [
    "# Load pickled data\n",
    "import pickle\n",
    "\n",
    "# TODO: Fill this in based on where you saved the training and testing data\n",
    "\n",
    "training_file = \"./traffic-signs-data/train.p\"\n",
    "validation_file = \"./traffic-signs-data/valid.p\"\n",
    "testing_file = \"./traffic-signs-data/test.p\"\n",
    "\n",
    "with open(training_file, mode='rb') as f:\n",
    "    train = pickle.load(f)\n",
    "with open(validation_file, mode='rb') as f:\n",
    "    valid = pickle.load(f)\n",
    "with open(testing_file, mode='rb') as f:\n",
    "    test = pickle.load(f)\n",
    "    \n",
    "X_train, y_train = train['features'], train['labels']\n",
    "X_valid, y_valid = valid['features'], valid['labels']\n",
    "X_test, y_test = test['features'], test['labels']\n",
    "print(\"Training {}, {}\".format(X_train.shape, y_train.shape))\n",
    "print(\"Validation {}, {}\".format(X_valid.shape, y_valid.shape))\n",
    "print(\"Testing {}, {}\".format(X_test.shape, y_test.shape))\n",
    "print(\"example of one y value: {}\".format(y_train[0]))"
   ]
  },
  {
   "cell_type": "markdown",
   "metadata": {},
   "source": [
    "---\n",
    "\n",
    "## Step 1: Dataset Summary & Exploration\n",
    "\n",
    "The pickled data is a dictionary with 4 key/value pairs:\n",
    "\n",
    "- `'features'` is a 4D array containing raw pixel data of the traffic sign images, (num examples, width, height, channels).\n",
    "- `'labels'` is a 1D array containing the label/class id of the traffic sign. The file `signnames.csv` contains id -> name mappings for each id.\n",
    "- `'sizes'` is a list containing tuples, (width, height) representing the original width and height the image.\n",
    "- `'coords'` is a list containing tuples, (x1, y1, x2, y2) representing coordinates of a bounding box around the sign in the image. **THESE COORDINATES ASSUME THE ORIGINAL IMAGE. THE PICKLED DATA CONTAINS RESIZED VERSIONS (32 by 32) OF THESE IMAGES**\n",
    "\n",
    "Complete the basic data summary below. Use python, numpy and/or pandas methods to calculate the data summary rather than hard coding the results. For example, the [pandas shape method](http://pandas.pydata.org/pandas-docs/stable/generated/pandas.DataFrame.shape.html) might be useful for calculating some of the summary results. "
   ]
  },
  {
   "cell_type": "markdown",
   "metadata": {},
   "source": [
    "### Provide a Basic Summary of the Data Set Using Python, Numpy and/or Pandas"
   ]
  },
  {
   "cell_type": "code",
   "execution_count": 2,
   "metadata": {},
   "outputs": [
    {
     "name": "stdout",
     "output_type": "stream",
     "text": [
      "Number of training examples = 34799\n",
      "Number of testing examples = 12630\n",
      "Image data shape = (32, 32)\n",
      "Number of classes = 43\n"
     ]
    }
   ],
   "source": [
    "### Replace each question mark with the appropriate value. \n",
    "### Use python, pandas or numpy methods rather than hard coding the results\n",
    "\n",
    "# TODO: Number of training examples\n",
    "n_train = X_train.shape[0]\n",
    "\n",
    "# TODO: Number of validation examples\n",
    "n_validation = X_valid.shape[0]\n",
    "\n",
    "# TODO: Number of testing examples.\n",
    "n_test = X_test.shape[0]\n",
    "\n",
    "# TODO: What's the shape of an traffic sign image?\n",
    "image_shape = X_train.shape[1:3]\n",
    "\n",
    "# TODO: How many unique classes/labels there are in the dataset.\n",
    "y_labels = set(y_train) & set(y_valid) & set(y_test)\n",
    "n_classes = len(y_labels)\n",
    "\n",
    "print(\"Number of training examples =\", n_train)\n",
    "print(\"Number of testing examples =\", n_test)\n",
    "print(\"Image data shape =\", image_shape)\n",
    "print(\"Number of classes =\", n_classes)\n",
    "\n",
    "# requirements and assumptions\n",
    "assert image_shape[0] == 32 and image_shape[1] == 32\n",
    "assert min(y_labels) == 0 and max(y_labels) == 42"
   ]
  },
  {
   "cell_type": "markdown",
   "metadata": {},
   "source": [
    "### Include an exploratory visualization of the dataset"
   ]
  },
  {
   "cell_type": "markdown",
   "metadata": {},
   "source": [
    "Visualize the German Traffic Signs Dataset using the pickled file(s). This is open ended, suggestions include: plotting traffic sign images, plotting the count of each sign, etc. \n",
    "\n",
    "The [Matplotlib](http://matplotlib.org/) [examples](http://matplotlib.org/examples/index.html) and [gallery](http://matplotlib.org/gallery.html) pages are a great resource for doing visualizations in Python.\n",
    "\n",
    "**NOTE:** It's recommended you start with something simple first. If you wish to do more, come back to it after you've completed the rest of the sections. It can be interesting to look at the distribution of classes in the training, validation and test set. Is the distribution the same? Are there more examples of some classes than others?"
   ]
  },
  {
   "cell_type": "code",
   "execution_count": 3,
   "metadata": {},
   "outputs": [
    {
     "name": "stdout",
     "output_type": "stream",
     "text": [
      "13\n"
     ]
    },
    {
     "data": {
      "image/png": "[encoded data removed]",
      "text/plain": [
       "<matplotlib.figure.Figure at 0x7fdc904f82b0>"
      ]
     },
     "metadata": {},
     "output_type": "display_data"
    }
   ],
   "source": [
    "### Data exploration visualization code goes here.\n",
    "### Feel free to use as many code cells as needed.\n",
    "from sklearn.utils import shuffle\n",
    "import matplotlib.pyplot as plt\n",
    "# Visualizations will be shown in the notebook.\n",
    "%matplotlib inline\n",
    "X_train, y_train = shuffle(X_train, y_train)\n",
    "image = X_train[0].squeeze()\n",
    "plt.figure(figsize=(1,1))\n",
    "plt.imshow(image, cmap=\"gray\")\n",
    "print(y_train[0])"
   ]
  },
  {
   "cell_type": "code",
   "execution_count": 4,
   "metadata": {},
   "outputs": [
    {
     "name": "stdout",
     "output_type": "stream",
     "text": [
      "counts of label[00] in train, valid, test = 180, 30, 60\n",
      "counts of label[01] in train, valid, test = 1980, 240, 720\n",
      "counts of label[02] in train, valid, test = 2010, 240, 750\n",
      "counts of label[03] in train, valid, test = 1260, 150, 450\n",
      "counts of label[04] in train, valid, test = 1770, 210, 660\n",
      "counts of label[05] in train, valid, test = 1650, 210, 630\n",
      "counts of label[06] in train, valid, test = 360, 60, 150\n",
      "counts of label[07] in train, valid, test = 1290, 150, 450\n",
      "counts of label[08] in train, valid, test = 1260, 150, 450\n",
      "counts of label[09] in train, valid, test = 1320, 150, 480\n",
      "counts of label[10] in train, valid, test = 1800, 210, 660\n",
      "counts of label[11] in train, valid, test = 1170, 150, 420\n",
      "counts of label[12] in train, valid, test = 1890, 210, 690\n",
      "counts of label[13] in train, valid, test = 1920, 240, 720\n",
      "counts of label[14] in train, valid, test = 690, 90, 270\n",
      "counts of label[15] in train, valid, test = 540, 90, 210\n",
      "counts of label[16] in train, valid, test = 360, 60, 150\n",
      "counts of label[17] in train, valid, test = 990, 120, 360\n",
      "counts of label[18] in train, valid, test = 1080, 120, 390\n",
      "counts of label[19] in train, valid, test = 180, 30, 60\n",
      "counts of label[20] in train, valid, test = 300, 60, 90\n",
      "counts of label[21] in train, valid, test = 270, 60, 90\n",
      "counts of label[22] in train, valid, test = 330, 60, 120\n",
      "counts of label[23] in train, valid, test = 450, 60, 150\n",
      "counts of label[24] in train, valid, test = 240, 30, 90\n",
      "counts of label[25] in train, valid, test = 1350, 150, 480\n",
      "counts of label[26] in train, valid, test = 540, 60, 180\n",
      "counts of label[27] in train, valid, test = 210, 30, 60\n",
      "counts of label[28] in train, valid, test = 480, 60, 150\n",
      "counts of label[29] in train, valid, test = 240, 30, 90\n",
      "counts of label[30] in train, valid, test = 390, 60, 150\n",
      "counts of label[31] in train, valid, test = 690, 90, 270\n",
      "counts of label[32] in train, valid, test = 210, 30, 60\n",
      "counts of label[33] in train, valid, test = 599, 90, 210\n",
      "counts of label[34] in train, valid, test = 360, 60, 120\n",
      "counts of label[35] in train, valid, test = 1080, 120, 390\n",
      "counts of label[36] in train, valid, test = 330, 60, 120\n",
      "counts of label[37] in train, valid, test = 180, 30, 60\n",
      "counts of label[38] in train, valid, test = 1860, 210, 690\n",
      "counts of label[39] in train, valid, test = 270, 30, 90\n",
      "counts of label[40] in train, valid, test = 300, 60, 90\n",
      "counts of label[41] in train, valid, test = 210, 30, 60\n",
      "counts of label[42] in train, valid, test = 210, 30, 90\n"
     ]
    }
   ],
   "source": [
    "for i in range(n_classes):\n",
    "    print(\"counts of label[{:02d}] in train, valid, test = {}, {}, {}\".format(\n",
    "        i, y_train.tolist().count(i), y_valid.tolist().count(i), y_test.tolist().count(i)))"
   ]
  },
  {
   "cell_type": "markdown",
   "metadata": {},
   "source": [
    "----\n",
    "\n",
    "## Step 2: Design and Test a Model Architecture\n",
    "\n",
    "Design and implement a deep learning model that learns to recognize traffic signs. Train and test your model on the [German Traffic Sign Dataset](http://benchmark.ini.rub.de/?section=gtsrb&subsection=dataset).\n",
    "\n",
    "The LeNet-5 implementation shown in the [classroom](https://classroom.udacity.com/nanodegrees/nd013/parts/fbf77062-5703-404e-b60c-95b78b2f3f9e/modules/6df7ae49-c61c-4bb2-a23e-6527e69209ec/lessons/601ae704-1035-4287-8b11-e2c2716217ad/concepts/d4aca031-508f-4e0b-b493-e7b706120f81) at the end of the CNN lesson is a solid starting point. You'll have to change the number of classes and possibly the preprocessing, but aside from that it's plug and play! \n",
    "\n",
    "With the LeNet-5 solution from the lecture, you should expect a validation set accuracy of about 0.89. To meet specifications, the validation set accuracy will need to be at least 0.93. It is possible to get an even higher accuracy, but 0.93 is the minimum for a successful project submission. \n",
    "\n",
    "There are various aspects to consider when thinking about this problem:\n",
    "\n",
    "- Neural network architecture (is the network over or underfitting?)\n",
    "- Play around preprocessing techniques (normalization, rgb to grayscale, etc)\n",
    "- Number of examples per label (some have more than others).\n",
    "- Generate fake data.\n",
    "\n",
    "Here is an example of a [published baseline model on this problem](http://yann.lecun.com/exdb/publis/pdf/sermanet-ijcnn-11.pdf). It's not required to be familiar with the approach used in the paper but, it's good practice to try to read papers like these."
   ]
  },
  {
   "cell_type": "markdown",
   "metadata": {},
   "source": [
    "### Pre-process the Data Set (normalization, grayscale, etc.)"
   ]
  },
  {
   "cell_type": "markdown",
   "metadata": {},
   "source": [
    "Minimally, the image data should be normalized so that the data has mean zero and equal variance. For image data, `(pixel - 128)/ 128` is a quick way to approximately normalize the data and can be used in this project. \n",
    "\n",
    "Other pre-processing steps are optional. You can try different techniques to see if it improves performance. \n",
    "\n",
    "Use the code cell (or multiple code cells, if necessary) to implement the first step of your project."
   ]
  },
  {
   "cell_type": "code",
   "execution_count": 5,
   "metadata": {},
   "outputs": [
    {
     "name": "stdout",
     "output_type": "stream",
     "text": [
      "original min, max from a random image: 11, 211\n",
      "normalized min, max from a random image: -0.9140625, 0.6484375\n",
      "preprocessing completed.\n"
     ]
    }
   ],
   "source": [
    "### Preprocess the data here. It is required to normalize the data. Other preprocessing steps could include \n",
    "### converting to grayscale, etc.\n",
    "### Feel free to use as many code cells as needed.\n",
    "import numpy as np\n",
    "if np.amin(X_train[0]) < 0:\n",
    "    print(\"data already normalized to [-1, 1].\")\n",
    "else:\n",
    "    print(\"original min, max from a random image: {}, {}\".format(np.amin(X_train[0]), np.amax(X_train[0])))\n",
    "    X_train = (X_train - 128.0) / 128\n",
    "    X_valid = (X_valid - 128.0) / 128\n",
    "    X_test = (X_test - 128.0) / 128\n",
    "    print(\"normalized min, max from a random image: {}, {}\".format(np.amin(X_train[0]), np.amax(X_train[0])))\n",
    "print(\"preprocessing completed.\")"
   ]
  },
  {
   "cell_type": "markdown",
   "metadata": {},
   "source": [
    "### Model Architecture"
   ]
  },
  {
   "cell_type": "code",
   "execution_count": 6,
   "metadata": {
    "collapsed": true
   },
   "outputs": [],
   "source": [
    "### Define your architecture here.\n",
    "### Feel free to use as many code cells as needed."
   ]
  },
  {
   "cell_type": "code",
   "execution_count": 7,
   "metadata": {
    "collapsed": true
   },
   "outputs": [],
   "source": [
    "import tensorflow as tf\n",
    "from tensorflow.contrib.layers import flatten\n",
    "\n",
    "EPOCHS = 30\n",
    "BATCH_SIZE = 128\n",
    "RATE = 0.003\n",
    "KEEP_PROB = 0.75\n",
    "TRAIN_MODE = True\n",
    "\n",
    "def LeNet(x):\n",
    "    mu = 0\n",
    "    sigma = 0.1\n",
    "    # layer1: 32x32x3 --> 28x28x6 --> 14x14x6\n",
    "    # layer1: 32x32x3 --> 28x28x16 --> 14x14x16\n",
    "    # layer1: 32x32x3 --> 28x28x16 --> 14x14x16\n",
    "    wc1 = tf.Variable(tf.truncated_normal([5, 5, 3, 16], mean=mu, stddev=sigma), dtype=np.float32)\n",
    "    wb1 = tf.Variable(tf.zeros([16]), dtype=np.float32)\n",
    "    layer1 = tf.nn.conv2d(x, wc1, [1, 1, 1, 1], \"VALID\") + wb1\n",
    "    layer1 = tf.nn.relu(layer1)\n",
    "    layer1 = tf.nn.max_pool(layer1, [1, 2, 2, 1], [1, 2, 2, 1], \"VALID\")\n",
    "    # layer2: 14x14x6 --> 10x10x16 --> 5x5x16\n",
    "    # layer2: 14x14x16 --> 10x10x32 --> 5x5x32\n",
    "    # layer2: 14x14x16 --> 10x10x32 --> 5x5x32\n",
    "    wc2 = tf.Variable(tf.truncated_normal([5, 5, 16, 32], mean=mu, stddev=sigma), dtype=np.float32)\n",
    "    wb2 = tf.Variable(tf.zeros([32]), dtype=np.float32)\n",
    "    layer2 = tf.nn.conv2d(layer1, wc2, [1, 1, 1, 1], \"VALID\") + wb2\n",
    "    layer2 = tf.nn.relu(layer2)\n",
    "    layer2 = tf.nn.max_pool(layer2, [1, 2, 2, 1], [1, 2, 2, 1], \"VALID\")\n",
    "    #layer3: 5x5x16 = 400 --> 120\n",
    "    #layer3: 5x5x32 = 800 --> 360\n",
    "    #layer3: 5x5x32 = 800 --> 240\n",
    "    layer2 = flatten(layer2)\n",
    "    wd3 = tf.Variable(tf.truncated_normal([800, 240], mean=mu, stddev=sigma), dtype=np.float32)\n",
    "    wb3 = tf.Variable(tf.zeros(240), dtype=np.float32)\n",
    "    layer3 = tf.matmul(layer2, wd3) + wb3\n",
    "    layer3 = tf.nn.relu(layer3)\n",
    "    if TRAIN_MODE:\n",
    "        layer3 = tf.nn.dropout(layer3, KEEP_PROB)\n",
    "    #layer4: 120 --> 84\n",
    "    #layer4: 360 --> 120\n",
    "    #layer4: 240 --> 170\n",
    "    wd4 = tf.Variable(tf.truncated_normal([240, 170], mean=mu, stddev=sigma), dtype=np.float32)\n",
    "    wb4 = tf.Variable(tf.zeros(170), dtype=np.float32)\n",
    "    layer4 = tf.matmul(layer3, wd4) + wb4\n",
    "    layer4 = tf.nn.relu(layer4)\n",
    "    if TRAIN_MODE:\n",
    "        layer4 = tf.nn.dropout(layer4, KEEP_PROB)\n",
    "    #layer5: 84 --> 43\n",
    "    #layer5: 120 --> 43\n",
    "    #layer5: 170 --> 43\n",
    "    wd5 = tf.Variable(tf.truncated_normal([170, n_classes], mean=mu, stddev=sigma), dtype=np.float32)\n",
    "    wb5 = tf.Variable(tf.zeros(n_classes), dtype=np.float32)\n",
    "    logits = tf.matmul(layer4, wd5) + wb5\n",
    "\n",
    "    return logits"
   ]
  },
  {
   "cell_type": "code",
   "execution_count": 8,
   "metadata": {
    "collapsed": true
   },
   "outputs": [],
   "source": [
    "x = tf.placeholder(tf.float32, (None, 32, 32, 3))\n",
    "y = tf.placeholder(tf.int32, (None))\n",
    "one_hot_y = tf.one_hot(y, n_classes)"
   ]
  },
  {
   "cell_type": "code",
   "execution_count": 9,
   "metadata": {
    "collapsed": true
   },
   "outputs": [],
   "source": [
    "logits = LeNet(x)\n",
    "cross_entropy = tf.nn.softmax_cross_entropy_with_logits(labels=one_hot_y, logits=logits)\n",
    "loss_operation = tf.reduce_mean(cross_entropy)\n",
    "optimizer = tf.train.AdamOptimizer(learning_rate=RATE)\n",
    "training_operation = optimizer.minimize(loss_operation)"
   ]
  },
  {
   "cell_type": "code",
   "execution_count": 10,
   "metadata": {
    "collapsed": true
   },
   "outputs": [],
   "source": [
    "correct_prediction = tf.equal(tf.argmax(logits, 1), tf.argmax(one_hot_y, 1))\n",
    "accuracy_operation = tf.reduce_mean(tf.cast(correct_prediction, tf.float32))\n",
    "saver = tf.train.Saver()\n",
    "\n",
    "def evaluate(X_data, y_data):\n",
    "    num_examples = len(X_data)\n",
    "    total_accuracy = 0\n",
    "    sess = tf.get_default_session()\n",
    "    for offset in range(0, num_examples, BATCH_SIZE):\n",
    "        batch_x, batch_y = X_data[offset:offset+BATCH_SIZE], y_data[offset:offset+BATCH_SIZE]\n",
    "        accuracy = sess.run(accuracy_operation, feed_dict={x: batch_x, y: batch_y})\n",
    "        total_accuracy += (accuracy * len(batch_x))\n",
    "    return total_accuracy / num_examples"
   ]
  },
  {
   "cell_type": "markdown",
   "metadata": {},
   "source": [
    "### Train, Validate and Test the Model"
   ]
  },
  {
   "cell_type": "markdown",
   "metadata": {},
   "source": [
    "A validation set can be used to assess how well the model is performing. A low accuracy on the training and validation\n",
    "sets imply underfitting. A high accuracy on the training set but low accuracy on the validation set implies overfitting."
   ]
  },
  {
   "cell_type": "code",
   "execution_count": 11,
   "metadata": {
    "collapsed": true
   },
   "outputs": [],
   "source": [
    "### Train your model here.\n",
    "### Calculate and report the accuracy on the training and validation set.\n",
    "### Once a final model architecture is selected, \n",
    "### the accuracy on the test set should be calculated and reported as well.\n",
    "### Feel free to use as many code cells as needed.\n",
    "\n",
    "### NOTES:\n",
    "### 1) remember to shuffle between epochs\n",
    "### 2) test accuracy was already close to train accuracy: overfitting unlikely,\n",
    "###    a dropout=0.75 is added after the 1st fully-connected layer for good measure.\n",
    "### 3) learn_rate=0.001, seems good as epoch-to-epoch accuracy is changing smoothly\n",
    "### 4) epochs=30 gives accuracy of 0.94/0.92 (train/test), stabilizing after epochs=20\n",
    "### 5) combining 3 & 4, it might be benefitial to try a lower learn_rate,\n",
    "###    with learn_rate=0.005, epochs=50, accuracy is 0.93/0.91(train/test),\n",
    "###    stabilized around epochs ~ 40.  ==> keep learn_rate=0.001, epochs=20\n",
    "### 6) increased nn size, see comments, 2nd set of values, 0.95/0.935; reached 0.93\n",
    "###    in 3 epochs, possibly indicating a smaller learn_rate??\n",
    "### 7) with 6's setup, epochs=30, rate=0.0005, 0.95/0.93, reached in 25 epochs\n",
    "### 8) reset to epochs=20, rate=0.001, with original nn size as 1st comment\n",
    "### 9) changed the last 2 FC layers to 400-200-100-43, mu 0.1 to 0.2, with this setup:\n",
    "###    accuracy is 0.91/0.90, reached in 15 epochs ==> mu's impact??\n",
    "### 10) repeat 9 but with mu=0.05, accuracy 0.92/0.915, reached in 18 epochs\n",
    "### 11) reset back to setting in 4, attempts 5-10 showed little improvement. .93/.92\n",
    "### 12) slightly tweaked 6, nn sizes as in 3rd comment, rate=0.003, added another\n",
    "###     dropout after 2nd FC layer,"
   ]
  },
  {
   "cell_type": "code",
   "execution_count": 12,
   "metadata": {
    "scrolled": true
   },
   "outputs": [
    {
     "name": "stdout",
     "output_type": "stream",
     "text": [
      "Training ...\n",
      "epoch 001 completed in 0:00:52.129021: accuracy = 0.859\n",
      "epoch 002 completed in 0:00:51.553984: accuracy = 0.896\n",
      "epoch 003 completed in 0:00:59.707803: accuracy = 0.917\n",
      "epoch 004 completed in 0:00:57.312098: accuracy = 0.904\n",
      "epoch 005 completed in 0:00:49.937633: accuracy = 0.920\n",
      "epoch 006 completed in 0:00:53.949352: accuracy = 0.930\n",
      "epoch 007 completed in 0:00:51.170218: accuracy = 0.921\n",
      "epoch 008 completed in 0:00:50.925199: accuracy = 0.919\n",
      "epoch 009 completed in 0:00:53.275511: accuracy = 0.934\n",
      "epoch 010 completed in 0:00:53.904701: accuracy = 0.926\n",
      "epoch 011 completed in 0:00:52.297920: accuracy = 0.929\n",
      "epoch 012 completed in 0:01:01.097953: accuracy = 0.911\n",
      "epoch 013 completed in 0:00:54.067125: accuracy = 0.919\n",
      "epoch 014 completed in 0:01:02.225513: accuracy = 0.933\n",
      "epoch 015 completed in 0:00:55.048497: accuracy = 0.935\n",
      "epoch 016 completed in 0:00:57.721674: accuracy = 0.935\n",
      "epoch 017 completed in 0:00:55.262516: accuracy = 0.915\n",
      "epoch 018 completed in 0:00:51.944451: accuracy = 0.935\n",
      "epoch 019 completed in 0:00:53.357726: accuracy = 0.922\n",
      "epoch 020 completed in 0:00:54.332186: accuracy = 0.925\n",
      "epoch 021 completed in 0:00:58.248828: accuracy = 0.938\n",
      "epoch 022 completed in 0:00:55.893506: accuracy = 0.914\n",
      "epoch 023 completed in 0:00:56.712700: accuracy = 0.918\n",
      "epoch 024 completed in 0:00:54.124280: accuracy = 0.947\n",
      "epoch 025 completed in 0:00:58.418097: accuracy = 0.946\n",
      "epoch 026 completed in 0:00:59.394528: accuracy = 0.946\n",
      "epoch 027 completed in 0:00:57.574905: accuracy = 0.923\n",
      "epoch 028 completed in 0:00:57.375696: accuracy = 0.952\n",
      "epoch 029 completed in 0:00:56.870646: accuracy = 0.940\n",
      "epoch 030 completed in 0:00:56.153779: accuracy = 0.939\n",
      "Training completed, saved to my_lenet.\n",
      "Testing saved model...\n",
      "Test Accuracy = 0.914\n"
     ]
    }
   ],
   "source": [
    "from datetime import datetime \n",
    "\n",
    "with tf.Session() as sess:\n",
    "    sess.run(tf.global_variables_initializer())\n",
    "    print(\"Training ...\")\n",
    "    for i in range(EPOCHS):\n",
    "        TRAIN_MODE = True\n",
    "        t0 = datetime.now()\n",
    "        X_train, y_train = shuffle(X_train, y_train)\n",
    "        for offset in range(0, n_train, BATCH_SIZE):\n",
    "            sess.run(training_operation, feed_dict={\n",
    "                x:X_train[offset : offset + BATCH_SIZE],\n",
    "                y:y_train[offset : offset + BATCH_SIZE]\n",
    "            })\n",
    "        dt = datetime.now() - t0\n",
    "        TRAIN_MODE = False\n",
    "        print(\"epoch {:03d} completed in {}: accuracy = {:.3f}\".format(i + 1, dt, evaluate(X_valid, y_valid)))\n",
    "    saver.save(sess, \"./my_lenet\")\n",
    "    print(\"Training completed, saved to my_lenet.\")\n",
    "    \n",
    "with tf.Session() as sess:\n",
    "    print(\"Testing saved model...\")\n",
    "    saver.restore(sess, tf.train.latest_checkpoint('.'))\n",
    "\n",
    "    TRAIN_MODE = False\n",
    "    test_accuracy = evaluate(X_test, y_test)\n",
    "    print(\"Test Accuracy = {:.3f}\".format(test_accuracy))"
   ]
  },
  {
   "cell_type": "markdown",
   "metadata": {},
   "source": [
    "---\n",
    "\n",
    "## Step 3: Test a Model on New Images\n",
    "\n",
    "To give yourself more insight into how your model is working, download at least five pictures of German traffic signs from the web and use your model to predict the traffic sign type.\n",
    "\n",
    "You may find `signnames.csv` useful as it contains mappings from the class id (integer) to the actual sign name."
   ]
  },
  {
   "cell_type": "markdown",
   "metadata": {},
   "source": [
    "### Load and Output the Images"
   ]
  },
  {
   "cell_type": "code",
   "execution_count": 47,
   "metadata": {},
   "outputs": [
    {
     "name": "stdout",
     "output_type": "stream",
     "text": [
      "image 0 min, max = 0, 255, name: ./downloaded_images/01_speed70.jpg\n",
      "image 1 min, max = 0, 255, name: ./downloaded_images/02_bumpy.jpg\n",
      "image 2 min, max = 0, 236, name: ./downloaded_images/03_Children.jpg\n",
      "image 3 min, max = 0, 255, name: ./downloaded_images/04_german-roadworks.jpg\n",
      "image 4 min, max = 0, 234, name: ./downloaded_images/05_german_rightofway.jpg\n"
     ]
    },
    {
     "data": {
      "image/png": "[encoded data removed]",
      "text/plain": [
       "<matplotlib.figure.Figure at 0x7fa8dd4f6710>"
      ]
     },
     "metadata": {},
     "output_type": "display_data"
    },
    {
     "data": {
      "image/png": "[encoded data removed]",
      "text/plain": [
       "<matplotlib.figure.Figure at 0x7fa8dd6a0908>"
      ]
     },
     "metadata": {},
     "output_type": "display_data"
    },
    {
     "data": {
      "image/png": "[encoded data removed]",
      "text/plain": [
       "<matplotlib.figure.Figure at 0x7fa8dc9d55c0>"
      ]
     },
     "metadata": {},
     "output_type": "display_data"
    },
    {
     "data": {
      "image/png": "[encoded data removed]",
      "text/plain": [
       "<matplotlib.figure.Figure at 0x7fa8dca14278>"
      ]
     },
     "metadata": {},
     "output_type": "display_data"
    },
    {
     "data": {
      "image/png": "[encoded data removed]",
      "text/plain": [
       "<matplotlib.figure.Figure at 0x7fa8dca8f390>"
      ]
     },
     "metadata": {},
     "output_type": "display_data"
    }
   ],
   "source": [
    "### Load the images and plot them here.\n",
    "### Feel free to use as many code cells as needed.\n",
    "image_files = [\"./downloaded_images/01_speed70.jpg\",\n",
    "               \"./downloaded_images/02_bumpy.jpg\",\n",
    "               \"./downloaded_images/03_Children.jpg\",\n",
    "               \"./downloaded_images/04_german-roadworks.jpg\",\n",
    "               \"./downloaded_images/05_german_rightofway.jpg\",\n",
    "              ]\n",
    "num_images = len(image_files)\n",
    "X_custom = np.zeros((num_images, 32, 32, 3))\n",
    "y_custom = np.array([4, 22, 28, 25, 11])\n",
    "\n",
    "for i, image_file in enumerate(image_files):\n",
    "    one_image = plt.imread(image_file)\n",
    "    assert one_image.shape[0] == 32 and one_image.shape[1] == 32 and one_image.shape[2] == 3\n",
    "    print(\"image {} min, max = {}, {}, name: {}\".format(i, np.amin(one_image), np.amax(one_image), image_file))\n",
    "    X_custom[i,:,:,:] = one_image\n",
    "for i in range(num_images):\n",
    "    plt.figure(figsize=(1,1))\n",
    "    plt.imshow(X_custom[i,:,:,:])\n"
   ]
  },
  {
   "cell_type": "markdown",
   "metadata": {},
   "source": [
    "### Predict the Sign Type for Each Image"
   ]
  },
  {
   "cell_type": "code",
   "execution_count": 48,
   "metadata": {},
   "outputs": [
    {
     "name": "stdout",
     "output_type": "stream",
     "text": [
      "Normalized images to [-1.0, 1.0]\n"
     ]
    }
   ],
   "source": [
    "### Run the predictions here and use the model to output the prediction for each image.\n",
    "### Make sure to pre-process the images with the same pre-processing pipeline used earlier.\n",
    "### Feel free to use as many code cells as needed.\n",
    "if np.amin(X_custom) >= 0 and np.amax(X_custom) > 1:\n",
    "    for i in range(num_images):\n",
    "        X_custom[i,:,:,:] = (X_custom[i,:,:,:] - 128.0) / 128\n",
    "    print(\"Normalized images to [-1.0, 1.0]\")\n",
    "else:\n",
    "    print(\"Images already normalized, skipping.\")"
   ]
  },
  {
   "cell_type": "markdown",
   "metadata": {},
   "source": [
    "### Analyze Performance"
   ]
  },
  {
   "cell_type": "code",
   "execution_count": 50,
   "metadata": {},
   "outputs": [
    {
     "name": "stdout",
     "output_type": "stream",
     "text": [
      "Custom Images Accuracy = 0.800\n"
     ]
    }
   ],
   "source": [
    "### Calculate the accuracy for these 5 new images. \n",
    "### For example, if the model predicted 1 out of 5 signs correctly, it's 20% accurate on these new images.\n",
    "with tf.Session() as sess:\n",
    "    saver.restore(sess, tf.train.latest_checkpoint('.'))\n",
    "\n",
    "    TRAIN_MODE = False\n",
    "    test_accuracy = evaluate(X_custom, y_custom)\n",
    "    print(\"Custom Images Accuracy = {:.3f}\".format(test_accuracy))"
   ]
  },
  {
   "cell_type": "markdown",
   "metadata": {},
   "source": [
    "### Output Top 5 Softmax Probabilities For Each Image Found on the Web"
   ]
  },
  {
   "cell_type": "markdown",
   "metadata": {},
   "source": [
    "For each of the new images, print out the model's softmax probabilities to show the **certainty** of the model's predictions (limit the output to the top 5 probabilities for each image). [`tf.nn.top_k`](https://www.tensorflow.org/versions/r0.12/api_docs/python/nn.html#top_k) could prove helpful here. \n",
    "\n",
    "The example below demonstrates how tf.nn.top_k can be used to find the top k predictions for each image.\n",
    "\n",
    "`tf.nn.top_k` will return the values and indices (class ids) of the top k predictions. So if k=3, for each sign, it'll return the 3 largest probabilities (out of a possible 43) and the correspoding class ids.\n",
    "\n",
    "Take this numpy array as an example. The values in the array represent predictions. The array contains softmax probabilities for five candidate images with six possible classes. `tf.nn.top_k` is used to choose the three classes with the highest probability:\n",
    "\n",
    "```\n",
    "# (5, 6) array\n",
    "a = np.array([[ 0.24879643,  0.07032244,  0.12641572,  0.34763842,  0.07893497,\n",
    "         0.12789202],\n",
    "       [ 0.28086119,  0.27569815,  0.08594638,  0.0178669 ,  0.18063401,\n",
    "         0.15899337],\n",
    "       [ 0.26076848,  0.23664738,  0.08020603,  0.07001922,  0.1134371 ,\n",
    "         0.23892179],\n",
    "       [ 0.11943333,  0.29198961,  0.02605103,  0.26234032,  0.1351348 ,\n",
    "         0.16505091],\n",
    "       [ 0.09561176,  0.34396535,  0.0643941 ,  0.16240774,  0.24206137,\n",
    "         0.09155967]])\n",
    "```\n",
    "\n",
    "Running it through `sess.run(tf.nn.top_k(tf.constant(a), k=3))` produces:\n",
    "\n",
    "```\n",
    "TopKV2(values=array([[ 0.34763842,  0.24879643,  0.12789202],\n",
    "       [ 0.28086119,  0.27569815,  0.18063401],\n",
    "       [ 0.26076848,  0.23892179,  0.23664738],\n",
    "       [ 0.29198961,  0.26234032,  0.16505091],\n",
    "       [ 0.34396535,  0.24206137,  0.16240774]]), indices=array([[3, 0, 5],\n",
    "       [0, 1, 4],\n",
    "       [0, 5, 1],\n",
    "       [1, 3, 5],\n",
    "       [1, 4, 3]], dtype=int32))\n",
    "```\n",
    "\n",
    "Looking just at the first row we get `[ 0.34763842,  0.24879643,  0.12789202]`, you can confirm these are the 3 largest probabilities in `a`. You'll also notice `[3, 0, 5]` are the corresponding indices."
   ]
  },
  {
   "cell_type": "code",
   "execution_count": 58,
   "metadata": {},
   "outputs": [
    {
     "name": "stdout",
     "output_type": "stream",
     "text": [
      "known labels are: [[ 4]\n",
      " [22]\n",
      " [28]\n",
      " [25]\n",
      " [11]]\n",
      "top 3 results are: TopKV2(values=array([[ 21.36857796,  20.34589195,  16.6512413 ],\n",
      "       [ 61.69927597,  46.47948837,  32.31280899],\n",
      "       [ 43.87689972,  21.57800293,  17.62538338],\n",
      "       [ 47.82661819,  13.00087452,  12.84595394],\n",
      "       [ 63.0511322 ,  30.09014702,  27.16891861]], dtype=float32), indices=array([[ 0,  1,  4],\n",
      "       [22, 29, 25],\n",
      "       [28, 30, 29],\n",
      "       [25, 24, 31],\n",
      "       [11, 27, 30]], dtype=int32))\n"
     ]
    }
   ],
   "source": [
    "### Print out the top five softmax probabilities for the predictions on the German traffic sign images found on the web. \n",
    "### Feel free to use as many code cells as needed.\n",
    "print(\"known labels are: {}\".format(np.array([y_custom,]).T))\n",
    "with tf.Session() as sess:\n",
    "    saver.restore(sess, tf.train.latest_checkpoint(\".\"))\n",
    "    # for i in range(num_images):\n",
    "    output = sess.run(logits, feed_dict={x: X_custom, y:y_custom})\n",
    "    top3s = sess.run(tf.nn.top_k(tf.constant(output), k=3))\n",
    "    print(\"top 3 results are: {}\".format(top3s))"
   ]
  },
  {
   "cell_type": "markdown",
   "metadata": {},
   "source": [
    "### Project Writeup\n",
    "\n",
    "Once you have completed the code implementation, document your results in a project writeup using this [template](https://github.com/udacity/CarND-Traffic-Sign-Classifier-Project/blob/master/writeup_template.md) as a guide. The writeup can be in a markdown or pdf file. "
   ]
  },
  {
   "cell_type": "markdown",
   "metadata": {},
   "source": [
    "> **Note**: Once you have completed all of the code implementations and successfully answered each question above, you may finalize your work by exporting the iPython Notebook as an HTML document. You can do this by using the menu above and navigating to  \\n\",\n",
    "    \"**File -> Download as -> HTML (.html)**. Include the finished document along with this notebook as your submission."
   ]
  },
  {
   "cell_type": "markdown",
   "metadata": {},
   "source": [
    "---\n",
    "\n",
    "## Step 4 (Optional): Visualize the Neural Network's State with Test Images\n",
    "\n",
    " This Section is not required to complete but acts as an additional excersise for understaning the output of a neural network's weights. While neural networks can be a great learning device they are often referred to as a black box. We can understand what the weights of a neural network look like better by plotting their feature maps. After successfully training your neural network you can see what it's feature maps look like by plotting the output of the network's weight layers in response to a test stimuli image. From these plotted feature maps, it's possible to see what characteristics of an image the network finds interesting. For a sign, maybe the inner network feature maps react with high activation to the sign's boundary outline or to the contrast in the sign's painted symbol.\n",
    "\n",
    " Provided for you below is the function code that allows you to get the visualization output of any tensorflow weight layer you want. The inputs to the function should be a stimuli image, one used during training or a new one you provided, and then the tensorflow variable name that represents the layer's state during the training process, for instance if you wanted to see what the [LeNet lab's](https://classroom.udacity.com/nanodegrees/nd013/parts/fbf77062-5703-404e-b60c-95b78b2f3f9e/modules/6df7ae49-c61c-4bb2-a23e-6527e69209ec/lessons/601ae704-1035-4287-8b11-e2c2716217ad/concepts/d4aca031-508f-4e0b-b493-e7b706120f81) feature maps looked like for it's second convolutional layer you could enter conv2 as the tf_activation variable.\n",
    "\n",
    "For an example of what feature map outputs look like, check out NVIDIA's results in their paper [End-to-End Deep Learning for Self-Driving Cars](https://devblogs.nvidia.com/parallelforall/deep-learning-self-driving-cars/) in the section Visualization of internal CNN State. NVIDIA was able to show that their network's inner weights had high activations to road boundary lines by comparing feature maps from an image with a clear path to one without. Try experimenting with a similar test to show that your trained network's weights are looking for interesting features, whether it's looking at differences in feature maps from images with or without a sign, or even what feature maps look like in a trained network vs a completely untrained one on the same sign image.\n",
    "\n",
    "<figure>\n",
    " <img src=\"visualize_cnn.png\" width=\"380\" alt=\"Combined Image\" />\n",
    " <figcaption>\n",
    " <p></p> \n",
    " <p style=\"text-align: center;\"> Your output should look something like this (above)</p> \n",
    " </figcaption>\n",
    "</figure>\n",
    " <p></p> \n"
   ]
  },
  {
   "cell_type": "code",
   "execution_count": null,
   "metadata": {
    "collapsed": true
   },
   "outputs": [],
   "source": [
    "### Visualize your network's feature maps here.\n",
    "### Feel free to use as many code cells as needed.\n",
    "\n",
    "# image_input: the test image being fed into the network to produce the feature maps\n",
    "# tf_activation: should be a tf variable name used during your training procedure that represents the calculated state of a specific weight layer\n",
    "# activation_min/max: can be used to view the activation contrast in more detail, by default matplot sets min and max to the actual min and max values of the output\n",
    "# plt_num: used to plot out multiple different weight feature map sets on the same block, just extend the plt number for each new feature map entry\n",
    "\n",
    "def outputFeatureMap(image_input, tf_activation, activation_min=-1, activation_max=-1 ,plt_num=1):\n",
    "    # Here make sure to preprocess your image_input in a way your network expects\n",
    "    # with size, normalization, ect if needed\n",
    "    # image_input =\n",
    "    # Note: x should be the same name as your network's tensorflow data placeholder variable\n",
    "    # If you get an error tf_activation is not defined it may be having trouble accessing the variable from inside a function\n",
    "    activation = tf_activation.eval(session=sess,feed_dict={x : image_input})\n",
    "    featuremaps = activation.shape[3]\n",
    "    plt.figure(plt_num, figsize=(15,15))\n",
    "    for featuremap in range(featuremaps):\n",
    "        plt.subplot(6,8, featuremap+1) # sets the number of feature maps to show on each row and column\n",
    "        plt.title('FeatureMap ' + str(featuremap)) # displays the feature map number\n",
    "        if activation_min != -1 & activation_max != -1:\n",
    "            plt.imshow(activation[0,:,:, featuremap], interpolation=\"nearest\", vmin =activation_min, vmax=activation_max, cmap=\"gray\")\n",
    "        elif activation_max != -1:\n",
    "            plt.imshow(activation[0,:,:, featuremap], interpolation=\"nearest\", vmax=activation_max, cmap=\"gray\")\n",
    "        elif activation_min !=-1:\n",
    "            plt.imshow(activation[0,:,:, featuremap], interpolation=\"nearest\", vmin=activation_min, cmap=\"gray\")\n",
    "        else:\n",
    "            plt.imshow(activation[0,:,:, featuremap], interpolation=\"nearest\", cmap=\"gray\")"
   ]
  }
 ],
 "metadata": {
  "anaconda-cloud": {},
  "kernelspec": {
   "display_name": "Python 3",
   "language": "python",
   "name": "python3"
  },
  "language_info": {
   "codemirror_mode": {
    "name": "ipython",
    "version": 3
   },
   "file_extension": ".py",
   "mimetype": "text/x-python",
   "name": "python",
   "nbconvert_exporter": "python",
   "pygments_lexer": "ipython3",
   "version": "3.5.2"
  },
  "widgets": {
   "state": {},
   "version": "1.1.2"
  }
 },
 "nbformat": 4,
 "nbformat_minor": 1
}
